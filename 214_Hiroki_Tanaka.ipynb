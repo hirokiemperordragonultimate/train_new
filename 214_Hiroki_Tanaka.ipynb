{
 "cells": [
  {
   "cell_type": "markdown",
   "metadata": {},
   "source": [
    "# 小テスト(全2問)\n",
    "## 第1問\n",
    "日本円を別の通貨に換算する**クラス「YenToCurrency」**を作成してください。\n",
    "\n",
    "条件\n",
    "\n",
    "1. 換算するのはドル(doll),ユーロ(euro)の2つの通貨です。\n",
    "2. 1ドル=100円, 1ユーロ=120円で換算してください。\n",
    "3. クラスの引数に日本円を入力して、その値を各通貨に換算できるようにします。\n",
    "\n",
    "例\n",
    "\n",
    "exchange = YenToCurrency(100)\n",
    "\n",
    "print('100円は{}ドルです。'.format(exchange.doll()))\n",
    "\n",
    "と入力すると<font color=\"Red\">**\"100円は1.0ドルです。\"**</font>と表示されるようにしてください。"
   ]
  },
  {
   "cell_type": "code",
   "execution_count": null,
   "metadata": {
    "collapsed": true
   },
   "outputs": [],
   "source": [
    "# 穴埋めするような形でコードを記述してください。\n",
    "class YenToCurrency:\n",
    "    def __init__(self,yen):\n",
    "        #ここを埋めてください。\n",
    "        \n",
    "    def doll(self):\n",
    "        #ここを埋めてください。\n",
    "        \n",
    "    def euro(self):\n",
    "        #ここを埋めてください。\n",
    "\n",
    "\n",
    "#正しくできているか確認するために1200円をドル・ユーロに換算して例のように出力してください。\n",
    "\n",
    "\n",
    "\n"
   ]
  },
  {
   "cell_type": "markdown",
   "metadata": {},
   "source": [
    "## 第2問\n",
    "### 1) pandas.DataFrameを用いて、以下の表を作成してください。\n",
    "\n",
    "<img src=\"https://s3-ap-northeast-1.amazonaws.com/ai-std/hait1.png\" width=30%>"
   ]
  },
  {
   "cell_type": "markdown",
   "metadata": {},
   "source": [
    "## データ(コピペに使ってください)\n",
    "### ダブルクリックで開くと使えます\n",
    "\n",
    "[パターン1]\n",
    "'Yutaro', 1997, 175, 57, 'M'\n",
    "'Koki', 1995, 183, 70, 'M'\n",
    "'Ayumi', 1993, 162, 46, 'F'\n",
    "'Manami', 1998, 158, 39, 'F'\n",
    "'Daichi', 1995, 172, 70, 'M'\n",
    "'Tomoya', 1996, 164, 58, 'M'\n",
    "'Rika', 1989, 168, 48, 'F'\n",
    "'Yui', 1988, 171, 49, 'F'\n",
    "'Kenta', 1985, 167, 67, 'M'\n",
    "'Mariko', 1991, 165, 51, 'F'\n",
    "\n",
    "[パターン2]\n",
    "'Yutaro', 'Koki', 'Ayumi', 'Manami', 'Daichi', 'Tomoya', 'Rika', 'Yui', 'Kenta', 'Mariko'\n",
    "1997, 1995, 1993, 1998, 1995, 1996, 1989, 1988, 1985, 1991\n",
    "175, 183, 162, 158, 172, 164, 168, 171, 167, 165\n",
    "57, 70, 46, 39, 70, 58, 48, 49, 67, 51\n",
    "'M', 'M', 'F', 'F', 'M', 'M', 'F', 'F', 'M', 'F'"
   ]
  },
  {
   "cell_type": "code",
   "execution_count": 10,
   "metadata": {},
   "outputs": [
    {
     "ename": "SyntaxError",
     "evalue": "invalid syntax (<ipython-input-10-c7ba9ff1f13b>, line 7)",
     "output_type": "error",
     "traceback": [
      "\u001b[0;36m  File \u001b[0;32m\"<ipython-input-10-c7ba9ff1f13b>\"\u001b[0;36m, line \u001b[0;32m7\u001b[0m\n\u001b[0;31m    {'名前':[0:'Yutaro', 1:'Koki', 2:'Ayumi', 3'Manami', 4'Daichi', 5'Tomoya', 6'Rika', 7'Yui', 8'Kenta', 9'Mariko'],\u001b[0m\n\u001b[0m            ^\u001b[0m\n\u001b[0;31mSyntaxError\u001b[0m\u001b[0;31m:\u001b[0m invalid syntax\n"
     ]
    }
   ],
   "source": [
    "#データフレームの名前は「data」で定義してください。\n",
    "#最後に表を出力させてください。\n",
    "#ここを埋めてください。\n",
    "\n",
    "\n",
    "df = pd.DataFrame(\n",
    "    {'名前':[0:'Yutaro', 1:'Koki', 2:'Ayumi', 3'Manami', 4'Daichi', 5'Tomoya', 6'Rika', 7'Yui', 8'Kenta', 9'Mariko'],\n",
    "     '年度': np.array[1997, 1995, 1993, 1998, 1995, 1996, 1989, 1988, 1985, 1991],\n",
    "     '身長': pd.Series[175, 183, 162, 158, 172, 164, 168, 171, 167, 165],\n",
    "    '体重':[57, 70, 46, 39, 70, 58, 48, 49, 67, 51],\n",
    "     '性別':['M', 'M', 'F', 'F', 'M', 'M', 'F', 'F', 'M', 'F'],\n",
    "     columns = ['名前','年度','身長','体重','性別'],\n",
    "     index = [0,1,2,3,4,5,6,7,8,9]\n",
    "        }\n",
    ")\n",
    "\n",
    "df\n",
    "\n",
    "\n"
   ]
  },
  {
   "cell_type": "markdown",
   "metadata": {},
   "source": [
    "### 2) 生まれた年が**1995年よりも前の人だけ**を表から取り出してください。"
   ]
  },
  {
   "cell_type": "code",
   "execution_count": 8,
   "metadata": {},
   "outputs": [
    {
     "ename": "SyntaxError",
     "evalue": "invalid syntax (<ipython-input-8-d3e7f2cbb21a>, line 2)",
     "output_type": "error",
     "traceback": [
      "\u001b[0;36m  File \u001b[0;32m\"<ipython-input-8-d3e7f2cbb21a>\"\u001b[0;36m, line \u001b[0;32m2\u001b[0m\n\u001b[0;31m    data2 = data[]\u001b[0m\n\u001b[0m                 ^\u001b[0m\n\u001b[0;31mSyntaxError\u001b[0m\u001b[0;31m:\u001b[0m invalid syntax\n"
     ]
    }
   ],
   "source": [
    "#[]の中を埋めてください。\n",
    "data2 = data[]\n",
    "data2"
   ]
  },
  {
   "cell_type": "markdown",
   "metadata": {},
   "source": [
    "### 3) 横軸を身長に縦軸を体重にとった、以下のような散布図を作成してください。\n",
    "\n",
    "<img src=\"https://s3-ap-northeast-1.amazonaws.com/ai-std/hait2.png\" width=60%>"
   ]
  },
  {
   "cell_type": "code",
   "execution_count": null,
   "metadata": {
    "collapsed": true
   },
   "outputs": [],
   "source": [
    "import matplotlib.pyplot as plt\n",
    "% matplotlib inline\n",
    "\n",
    "#男子だけのデータを取り出します。[]の中を記述してください。\n",
    "data_male = data[]\n",
    "\n",
    "#男子の身長データ,体重データを取り出します。[]の中を記述してください。\n",
    "male_height = data_male[]\n",
    "male_weight = data_male[]\n",
    "\n",
    "#女子だけのデータを取り出します。[]の中を記述してください。\n",
    "data_female = data[]\n",
    "\n",
    "#女子の身長データと体重データを取り出します。[]の中を記述してください。\n",
    "female_height = data_female[]\n",
    "female_weight = data_female[]\n",
    "\n",
    "#取り出したデータをプロットしてください。( 全てplt.~~の中の~~の部分を記述してください。)\n",
    "\n",
    "plt.~~  #男子のデータの散布図を､ラベルを指定してプロットしてください。\n",
    "plt.~~  #女子のデータの散布図を､ラベルを指定してプロットしてください。\n",
    "plt.~~  #グラフのタイトルを表示させてください。\n",
    "plt.~~  #x軸のラベルを表示させてください。\n",
    "plt.~~  #y軸のラベルを表示させてください。\n",
    "plt.~~  #凡例を表示させてください。\n",
    "\n",
    "plt.show()"
   ]
  }
 ],
 "metadata": {
  "kernelspec": {
   "display_name": "Python 3",
   "language": "python",
   "name": "python3"
  },
  "language_info": {
   "codemirror_mode": {
    "name": "ipython",
    "version": 3
   },
   "file_extension": ".py",
   "mimetype": "text/x-python",
   "name": "python",
   "nbconvert_exporter": "python",
   "pygments_lexer": "ipython3",
   "version": "3.6.3"
  }
 },
 "nbformat": 4,
 "nbformat_minor": 2
}
